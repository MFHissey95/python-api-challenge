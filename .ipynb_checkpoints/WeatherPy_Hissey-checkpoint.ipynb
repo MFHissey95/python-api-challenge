{
 "cells": [
  {
   "cell_type": "markdown",
   "metadata": {},
   "source": [
    "# WeatherPy\n",
    "----\n",
    "\n",
    "#### Note\n",
    "* Instructions have been included for each segment. You do not have to follow them exactly, but they are included to help you think through the steps."
   ]
  },
  {
   "cell_type": "code",
   "execution_count": 1,
   "metadata": {
    "scrolled": true
   },
   "outputs": [],
   "source": [
    "# Dependencies and Setup\n",
    "import csv \n",
    "import matplotlib.pyplot as plt\n",
    "import pandas as pd\n",
    "import numpy as np\n",
    "import requests \n",
    "import time\n",
    "from pprint import pprint\n",
    "from scipy.stats import linregress\n",
    "\n",
    "# Import API key\n",
    "from api_keys import weather_api_key\n",
    "\n",
    "# Incorporated citipy to determine city based on latitude and longitude\n",
    "from citipy import citipy\n",
    "\n",
    "# Output File (CSV)\n",
    "output_data_file = \"output_data/cities.csv\"\n",
    "\n",
    "# Range of latitudes and longitudes\n",
    "lat_range = (-90, 90)\n",
    "lng_range = (-180, 180)\n",
    "\n",
    "temp_units = \"imperial\"\n",
    "# define url\n",
    "query_url = f\"http://api.openweathermap.org/data/2.5/weather?appid={weather_api_key}&units={temp_units}&q=\"\n",
    "\n",
    "# define count of pass throughs\n",
    "count_one = 0\n",
    "set_one = 1"
   ]
  },
  {
   "cell_type": "markdown",
   "metadata": {},
   "source": [
    "## Generate Cities List"
   ]
  },
  {
   "cell_type": "code",
   "execution_count": 2,
   "metadata": {},
   "outputs": [
    {
     "data": {
      "text/plain": [
       "608"
      ]
     },
     "execution_count": 2,
     "metadata": {},
     "output_type": "execute_result"
    }
   ],
   "source": [
    "# List for holding lat_lngs and cities\n",
    "lat_lngs = []\n",
    "cities = []\n",
    "\n",
    "# Create a set of random lat and lng combinations\n",
    "lats = np.random.uniform(low=-90.000, high=90.000, size=1500)\n",
    "lngs = np.random.uniform(low=-180.000, high=180.000, size=1500)\n",
    "lat_lngs = zip(lats, lngs)\n",
    "\n",
    "# Identify nearest city for each lat, lng combination\n",
    "for lat_lng in lat_lngs:\n",
    "    city = citipy.nearest_city(lat_lng[0], lat_lng[1]).city_name\n",
    "    \n",
    "    # If the city is unique, then add it to a our cities list\n",
    "    if city not in cities:\n",
    "        cities.append(city)\n",
    "\n",
    "# Print the city count to confirm sufficient count\n",
    "len(cities)"
   ]
  },
  {
   "cell_type": "markdown",
   "metadata": {},
   "source": [
    "### Perform API Calls\n",
    "* Perform a weather check on each city using a series of successive API calls.\n",
    "* Include a print log of each city as it'sbeing processed (with the city number and city name).\n"
   ]
  },
  {
   "cell_type": "code",
   "execution_count": 3,
   "metadata": {},
   "outputs": [
    {
     "name": "stdout",
     "output_type": "stream",
     "text": [
      "Processing Record 1 of Set 1 | ilulissat\n",
      "Processing Record 2 of Set 1 | ziniare\n",
      "Processing Record 3 of Set 1 | inhambane\n",
      "Processing Record 4 of Set 1 | vila velha\n",
      "Processing Record 5 of Set 1 | yellowknife\n",
      "Processing Record 6 of Set 1 | cuamba\n",
      "Processing Record 7 of Set 1 | busselton\n",
      "Processing Record 8 of Set 1 | padang\n",
      "Processing Record 9 of Set 1 | east london\n",
      "Processing Record 10 of Set 1 | vaini\n",
      "Processing Record 11 of Set 1 | butaritari\n",
      "City not found. Skipping...\n",
      "Processing Record 12 of Set 1 | severodvinsk\n",
      "Processing Record 13 of Set 1 | tiksi\n",
      "City not found. Skipping...\n",
      "Processing Record 14 of Set 1 | lebu\n",
      "Processing Record 15 of Set 1 | touros\n",
      "Processing Record 16 of Set 1 | mataura\n",
      "Processing Record 17 of Set 1 | hermanus\n",
      "Processing Record 18 of Set 1 | colares\n",
      "Processing Record 19 of Set 1 | rikitea\n",
      "Processing Record 20 of Set 1 | saskylakh\n",
      "Processing Record 21 of Set 1 | bredasdorp\n",
      "Processing Record 22 of Set 1 | cidreira\n",
      "City not found. Skipping...\n",
      "Processing Record 23 of Set 1 | cape town\n",
      "Processing Record 24 of Set 1 | marzuq\n",
      "Processing Record 25 of Set 1 | kutum\n",
      "Processing Record 26 of Set 1 | hofn\n",
      "Processing Record 27 of Set 1 | san cristobal\n",
      "Processing Record 28 of Set 1 | aklavik\n",
      "Processing Record 29 of Set 1 | bethel\n",
      "City not found. Skipping...\n",
      "Processing Record 30 of Set 1 | abha\n",
      "Processing Record 31 of Set 1 | qaanaaq\n",
      "Processing Record 32 of Set 1 | constitucion\n",
      "Processing Record 33 of Set 1 | lompoc\n",
      "Processing Record 34 of Set 1 | choszczno\n",
      "Processing Record 35 of Set 1 | zharkent\n",
      "Processing Record 36 of Set 1 | chokurdakh\n",
      "Processing Record 37 of Set 1 | isangel\n",
      "Processing Record 38 of Set 1 | severo-kurilsk\n",
      "Processing Record 39 of Set 1 | kapaa\n",
      "Processing Record 40 of Set 1 | kodiak\n",
      "Processing Record 41 of Set 1 | port elizabeth\n",
      "Processing Record 42 of Set 1 | port alfred\n",
      "Processing Record 43 of Set 1 | katsuura\n",
      "Processing Record 44 of Set 1 | tutoia\n",
      "City not found. Skipping...\n",
      "City not found. Skipping...\n",
      "Processing Record 45 of Set 1 | buenavista\n",
      "Processing Record 46 of Set 1 | lagoa\n",
      "Processing Record 47 of Set 1 | surt\n",
      "Processing Record 48 of Set 1 | ibaiti\n",
      "Processing Record 49 of Set 1 | tanuma\n",
      "Processing Record 1 of Set 2 | new norfolk\n",
      "Processing Record 2 of Set 2 | nikolskoye\n",
      "Processing Record 3 of Set 2 | chateaudun\n",
      "Processing Record 4 of Set 2 | ahuimanu\n",
      "Processing Record 5 of Set 2 | bonoua\n",
      "Processing Record 6 of Set 2 | khatanga\n",
      "Processing Record 7 of Set 2 | jamestown\n",
      "City not found. Skipping...\n",
      "Processing Record 8 of Set 2 | hilo\n",
      "Processing Record 9 of Set 2 | albany\n",
      "Processing Record 10 of Set 2 | airai\n",
      "Processing Record 11 of Set 2 | hithadhoo\n",
      "Processing Record 12 of Set 2 | chapais\n",
      "Processing Record 13 of Set 2 | rocha\n",
      "Processing Record 14 of Set 2 | derzhavinsk\n",
      "City not found. Skipping...\n",
      "Processing Record 15 of Set 2 | castro\n",
      "Processing Record 16 of Set 2 | mar del plata\n",
      "Processing Record 17 of Set 2 | ostrovnoy\n",
      "City not found. Skipping...\n",
      "Processing Record 18 of Set 2 | labuhan\n",
      "Processing Record 19 of Set 2 | plock\n",
      "Processing Record 20 of Set 2 | champerico\n",
      "Processing Record 21 of Set 2 | sitka\n",
      "Processing Record 22 of Set 2 | anshun\n",
      "Processing Record 23 of Set 2 | mahebourg\n",
      "Processing Record 24 of Set 2 | ust-tsilma\n",
      "Processing Record 25 of Set 2 | faanui\n",
      "Processing Record 26 of Set 2 | necochea\n",
      "Processing Record 27 of Set 2 | hasaki\n",
      "Processing Record 28 of Set 2 | punta arenas\n",
      "Processing Record 29 of Set 2 | mangrol\n",
      "Processing Record 30 of Set 2 | bowen\n",
      "Processing Record 31 of Set 2 | marawi\n",
      "Processing Record 32 of Set 2 | brzesko\n",
      "Processing Record 33 of Set 2 | eydhafushi\n",
      "Processing Record 34 of Set 2 | taltal\n",
      "Processing Record 35 of Set 2 | abu dhabi\n",
      "Processing Record 36 of Set 2 | dudinka\n",
      "Processing Record 37 of Set 2 | menongue\n",
      "Processing Record 38 of Set 2 | nanortalik\n",
      "City not found. Skipping...\n",
      "Processing Record 39 of Set 2 | longkou\n",
      "Processing Record 40 of Set 2 | kampot\n",
      "Processing Record 41 of Set 2 | hami\n",
      "City not found. Skipping...\n",
      "Processing Record 42 of Set 2 | grand river south east\n",
      "Processing Record 43 of Set 2 | dikson\n",
      "Processing Record 44 of Set 2 | wasilla\n",
      "Processing Record 45 of Set 2 | atuona\n",
      "Processing Record 46 of Set 2 | shahrud\n",
      "Processing Record 47 of Set 2 | ouadda\n",
      "Processing Record 48 of Set 2 | kaoma\n",
      "Processing Record 49 of Set 2 | esperance\n",
      "Processing Record 1 of Set 3 | mbanza-ngungu\n",
      "Processing Record 2 of Set 3 | karanja\n",
      "Processing Record 3 of Set 3 | hobart\n",
      "Processing Record 4 of Set 3 | oussouye\n",
      "Processing Record 5 of Set 3 | polignano a mare\n",
      "City not found. Skipping...\n",
      "Processing Record 6 of Set 3 | panormos\n",
      "Processing Record 7 of Set 3 | hambantota\n",
      "Processing Record 8 of Set 3 | puerto ayora\n",
      "City not found. Skipping...\n",
      "Processing Record 9 of Set 3 | bluff\n",
      "Processing Record 10 of Set 3 | bathsheba\n",
      "Processing Record 11 of Set 3 | ialibu\n",
      "Processing Record 12 of Set 3 | georgetown\n",
      "Processing Record 13 of Set 3 | ushuaia\n",
      "Processing Record 14 of Set 3 | pascagoula\n",
      "Processing Record 15 of Set 3 | bambous virieux\n",
      "Processing Record 16 of Set 3 | pevek\n",
      "Processing Record 17 of Set 3 | vila franca do campo\n",
      "Processing Record 18 of Set 3 | arraial do cabo\n",
      "Processing Record 19 of Set 3 | itanagar\n",
      "Processing Record 20 of Set 3 | vrangel\n",
      "Processing Record 21 of Set 3 | thompson\n",
      "Processing Record 22 of Set 3 | krasnoarmeysk\n",
      "Processing Record 23 of Set 3 | avarua\n",
      "Processing Record 24 of Set 3 | okha\n",
      "City not found. Skipping...\n",
      "Processing Record 25 of Set 3 | fort nelson\n",
      "Processing Record 26 of Set 3 | fairbanks\n",
      "Processing Record 27 of Set 3 | inta\n",
      "Processing Record 28 of Set 3 | egvekinot\n",
      "Processing Record 29 of Set 3 | victoria\n",
      "Processing Record 30 of Set 3 | cherskiy\n",
      "Processing Record 31 of Set 3 | burgeo\n",
      "City not found. Skipping...\n",
      "Processing Record 32 of Set 3 | bosobolo\n",
      "Processing Record 33 of Set 3 | coihaique\n",
      "Processing Record 34 of Set 3 | urgut\n",
      "Processing Record 35 of Set 3 | banjar\n",
      "Processing Record 36 of Set 3 | mtsamboro\n",
      "Processing Record 37 of Set 3 | sri aman\n",
      "Processing Record 38 of Set 3 | arkadelphia\n",
      "Processing Record 39 of Set 3 | karwar\n",
      "Processing Record 40 of Set 3 | port hedland\n",
      "Processing Record 41 of Set 3 | mys shmidta\n",
      "Processing Record 42 of Set 3 | lethem\n",
      "Processing Record 43 of Set 3 | riohacha\n",
      "Processing Record 44 of Set 3 | esna\n",
      "Processing Record 45 of Set 3 | codrington\n",
      "Processing Record 46 of Set 3 | zyryanovsk\n",
      "Processing Record 47 of Set 3 | puerres\n",
      "City not found. Skipping...\n",
      "Processing Record 48 of Set 3 | anloga\n",
      "Processing Record 49 of Set 3 | teya\n",
      "Processing Record 1 of Set 4 | ranau\n",
      "Processing Record 2 of Set 4 | barrow\n",
      "Processing Record 3 of Set 4 | saldanha\n",
      "Processing Record 4 of Set 4 | tuktoyaktuk\n",
      "Processing Record 5 of Set 4 | juneau\n",
      "City not found. Skipping...\n",
      "City not found. Skipping...\n",
      "Processing Record 6 of Set 4 | port augusta\n",
      "Processing Record 7 of Set 4 | sao joao da barra\n",
      "Processing Record 8 of Set 4 | otradnoye\n",
      "City not found. Skipping...\n",
      "Processing Record 9 of Set 4 | goulburn\n",
      "City not found. Skipping...\n",
      "Processing Record 10 of Set 4 | kaitangata\n",
      "Processing Record 11 of Set 4 | lumberton\n",
      "Processing Record 12 of Set 4 | maravilla\n",
      "Processing Record 13 of Set 4 | ponta do sol\n",
      "Processing Record 14 of Set 4 | xining\n",
      "Processing Record 15 of Set 4 | timmins\n",
      "Processing Record 16 of Set 4 | kharitonovo\n",
      "Processing Record 17 of Set 4 | bose\n",
      "Processing Record 18 of Set 4 | sillod\n",
      "City not found. Skipping...\n",
      "Processing Record 19 of Set 4 | tuatapere\n",
      "Processing Record 20 of Set 4 | evensk\n",
      "Processing Record 21 of Set 4 | uberlandia\n",
      "Processing Record 22 of Set 4 | guerrero negro\n",
      "Processing Record 23 of Set 4 | namatanai\n",
      "Processing Record 24 of Set 4 | shirokiy\n",
      "Processing Record 25 of Set 4 | hooksett\n",
      "Processing Record 26 of Set 4 | pitimbu\n",
      "Processing Record 27 of Set 4 | freeport\n",
      "Processing Record 28 of Set 4 | morondava\n",
      "Processing Record 29 of Set 4 | greensburg\n",
      "Processing Record 30 of Set 4 | carnarvon\n",
      "Processing Record 31 of Set 4 | kushtagi\n",
      "Processing Record 32 of Set 4 | geraldton\n",
      "Processing Record 33 of Set 4 | turukhansk\n",
      "Processing Record 34 of Set 4 | provideniya\n",
      "Processing Record 35 of Set 4 | baker city\n",
      "Processing Record 36 of Set 4 | port lincoln\n",
      "Processing Record 37 of Set 4 | iturama\n",
      "Processing Record 38 of Set 4 | boa vista\n",
      "Processing Record 39 of Set 4 | atar\n",
      "Processing Record 40 of Set 4 | thinadhoo\n"
     ]
    },
    {
     "name": "stdout",
     "output_type": "stream",
     "text": [
      "Processing Record 41 of Set 4 | havre-saint-pierre\n",
      "Processing Record 42 of Set 4 | kurchum\n",
      "Processing Record 43 of Set 4 | gondanglegi\n",
      "Processing Record 44 of Set 4 | kondinskoye\n",
      "Processing Record 45 of Set 4 | calama\n",
      "Processing Record 46 of Set 4 | ahipara\n",
      "Processing Record 47 of Set 4 | aswan\n",
      "Processing Record 48 of Set 4 | mecca\n",
      "Processing Record 49 of Set 4 | paamiut\n",
      "Processing Record 1 of Set 5 | tondano\n",
      "Processing Record 2 of Set 5 | boundiali\n",
      "Processing Record 3 of Set 5 | sept-iles\n",
      "Processing Record 4 of Set 5 | gao\n",
      "Processing Record 5 of Set 5 | beyneu\n",
      "City not found. Skipping...\n",
      "Processing Record 6 of Set 5 | bilibino\n",
      "City not found. Skipping...\n",
      "Processing Record 7 of Set 5 | longyearbyen\n",
      "City not found. Skipping...\n",
      "Processing Record 8 of Set 5 | saint-francois\n",
      "Processing Record 9 of Set 5 | bobovdol\n",
      "Processing Record 10 of Set 5 | connersville\n",
      "Processing Record 11 of Set 5 | bam\n",
      "Processing Record 12 of Set 5 | kloulklubed\n",
      "Processing Record 13 of Set 5 | smithers\n",
      "Processing Record 14 of Set 5 | vina del mar\n",
      "City not found. Skipping...\n",
      "Processing Record 15 of Set 5 | tornio\n",
      "Processing Record 16 of Set 5 | tual\n",
      "Processing Record 17 of Set 5 | vardo\n",
      "City not found. Skipping...\n",
      "Processing Record 18 of Set 5 | sechura\n",
      "Processing Record 19 of Set 5 | yeppoon\n",
      "Processing Record 20 of Set 5 | arlit\n",
      "Processing Record 21 of Set 5 | bedele\n",
      "Processing Record 22 of Set 5 | iskateley\n",
      "Processing Record 23 of Set 5 | upernavik\n",
      "Processing Record 24 of Set 5 | rio gallegos\n",
      "City not found. Skipping...\n",
      "Processing Record 25 of Set 5 | panguna\n",
      "Processing Record 26 of Set 5 | trairi\n",
      "Processing Record 27 of Set 5 | kavieng\n",
      "City not found. Skipping...\n",
      "Processing Record 28 of Set 5 | heinola\n",
      "Processing Record 29 of Set 5 | kysyl-syr\n",
      "City not found. Skipping...\n",
      "Processing Record 30 of Set 5 | olga\n",
      "Processing Record 31 of Set 5 | yakeshi\n",
      "Processing Record 32 of Set 5 | tongliao\n",
      "Processing Record 33 of Set 5 | norman wells\n",
      "City not found. Skipping...\n",
      "Processing Record 34 of Set 5 | pozo colorado\n",
      "Processing Record 35 of Set 5 | kovin\n",
      "Processing Record 36 of Set 5 | hobyo\n",
      "Processing Record 37 of Set 5 | khasan\n",
      "Processing Record 38 of Set 5 | vao\n",
      "Processing Record 39 of Set 5 | saint-philippe\n",
      "Processing Record 40 of Set 5 | torbay\n",
      "Processing Record 41 of Set 5 | deputatskiy\n",
      "Processing Record 42 of Set 5 | ponta delgada\n",
      "Processing Record 43 of Set 5 | tocopilla\n",
      "Processing Record 44 of Set 5 | port hawkesbury\n",
      "Processing Record 45 of Set 5 | jalu\n",
      "City not found. Skipping...\n",
      "Processing Record 46 of Set 5 | black river\n",
      "Processing Record 47 of Set 5 | gold coast\n",
      "City not found. Skipping...\n",
      "Processing Record 48 of Set 5 | west linton\n",
      "Processing Record 49 of Set 5 | brae\n",
      "Processing Record 1 of Set 6 | khandyga\n",
      "Processing Record 2 of Set 6 | ancud\n",
      "Processing Record 3 of Set 6 | yulara\n",
      "Processing Record 4 of Set 6 | dali\n",
      "Processing Record 5 of Set 6 | polovinnoye\n",
      "Processing Record 6 of Set 6 | faya\n",
      "Processing Record 7 of Set 6 | laguna\n",
      "Processing Record 8 of Set 6 | paka\n",
      "Processing Record 9 of Set 6 | libusin\n",
      "Processing Record 10 of Set 6 | bozdar\n",
      "Processing Record 11 of Set 6 | santa fe\n",
      "Processing Record 12 of Set 6 | port blair\n",
      "City not found. Skipping...\n",
      "Processing Record 13 of Set 6 | maracineni\n",
      "Processing Record 14 of Set 6 | nouakchott\n",
      "Processing Record 15 of Set 6 | asadabad\n",
      "Processing Record 16 of Set 6 | talnakh\n",
      "Processing Record 17 of Set 6 | caravelas\n",
      "Processing Record 18 of Set 6 | namibe\n",
      "Processing Record 19 of Set 6 | falam\n",
      "Processing Record 20 of Set 6 | bada\n",
      "Processing Record 21 of Set 6 | kununurra\n",
      "Processing Record 22 of Set 6 | sisimiut\n",
      "City not found. Skipping...\n",
      "Processing Record 23 of Set 6 | sao felix do xingu\n",
      "Processing Record 24 of Set 6 | margate\n",
      "Processing Record 25 of Set 6 | aitape\n",
      "Processing Record 26 of Set 6 | kirakira\n",
      "Processing Record 27 of Set 6 | roebourne\n",
      "Processing Record 28 of Set 6 | sambava\n",
      "Processing Record 29 of Set 6 | oron\n",
      "Processing Record 30 of Set 6 | sovetskiy\n",
      "Processing Record 31 of Set 6 | diffa\n",
      "Processing Record 32 of Set 6 | lodja\n",
      "Processing Record 33 of Set 6 | kibala\n",
      "Processing Record 34 of Set 6 | kudahuvadhoo\n",
      "Processing Record 35 of Set 6 | narsaq\n",
      "Processing Record 36 of Set 6 | boyuibe\n",
      "City not found. Skipping...\n",
      "City not found. Skipping...\n",
      "Processing Record 37 of Set 6 | puerto montt\n",
      "Processing Record 38 of Set 6 | hays\n",
      "City not found. Skipping...\n",
      "Processing Record 39 of Set 6 | weiser\n",
      "Processing Record 40 of Set 6 | kuching\n",
      "Processing Record 41 of Set 6 | vilhena\n",
      "Processing Record 42 of Set 6 | lorengau\n",
      "Processing Record 43 of Set 6 | almeirim\n",
      "Processing Record 44 of Set 6 | sesheke\n",
      "Processing Record 45 of Set 6 | itarema\n",
      "Processing Record 46 of Set 6 | sarangani\n",
      "Processing Record 47 of Set 6 | leshukonskoye\n",
      "Processing Record 48 of Set 6 | kapit\n",
      "Processing Record 49 of Set 6 | pisco\n",
      "Processing Record 1 of Set 7 | kadaya\n",
      "Processing Record 2 of Set 7 | luderitz\n",
      "Processing Record 3 of Set 7 | bakchar\n",
      "Processing Record 4 of Set 7 | belaya gora\n",
      "Processing Record 5 of Set 7 | souillac\n",
      "Processing Record 6 of Set 7 | grenville\n",
      "Processing Record 7 of Set 7 | tandalti\n",
      "Processing Record 8 of Set 7 | khandbari\n",
      "Processing Record 9 of Set 7 | chumikan\n",
      "Processing Record 10 of Set 7 | secunda\n",
      "Processing Record 11 of Set 7 | yerbogachen\n",
      "Processing Record 12 of Set 7 | naples\n",
      "Processing Record 13 of Set 7 | moose factory\n",
      "Processing Record 14 of Set 7 | vanavara\n",
      "City not found. Skipping...\n",
      "Processing Record 15 of Set 7 | poshekhonye\n",
      "Processing Record 16 of Set 7 | ribeira grande\n",
      "Processing Record 17 of Set 7 | effingham\n",
      "City not found. Skipping...\n",
      "Processing Record 18 of Set 7 | fredericton\n",
      "Processing Record 19 of Set 7 | opuwo\n",
      "Processing Record 20 of Set 7 | leningradskiy\n",
      "Processing Record 21 of Set 7 | qaqortoq\n",
      "Processing Record 22 of Set 7 | chuy\n",
      "Processing Record 23 of Set 7 | bac lieu\n",
      "Processing Record 24 of Set 7 | vaitape\n",
      "Processing Record 25 of Set 7 | celestun\n",
      "Processing Record 26 of Set 7 | kushchevskaya\n",
      "Processing Record 27 of Set 7 | hanzhong\n",
      "Processing Record 28 of Set 7 | nikko\n",
      "Processing Record 29 of Set 7 | qiqihar\n",
      "Processing Record 30 of Set 7 | kambi\n",
      "Processing Record 31 of Set 7 | shingu\n",
      "Processing Record 32 of Set 7 | imbituba\n",
      "City not found. Skipping...\n",
      "Processing Record 33 of Set 7 | cajazeiras\n",
      "Processing Record 34 of Set 7 | amahai\n",
      "Processing Record 35 of Set 7 | alofi\n",
      "City not found. Skipping...\n",
      "City not found. Skipping...\n",
      "City not found. Skipping...\n",
      "Processing Record 36 of Set 7 | kathmandu\n",
      "Processing Record 37 of Set 7 | tomari\n",
      "Processing Record 38 of Set 7 | camocim\n",
      "Processing Record 39 of Set 7 | rantauprapat\n",
      "City not found. Skipping...\n",
      "City not found. Skipping...\n",
      "Processing Record 40 of Set 7 | lamar\n",
      "Processing Record 41 of Set 7 | vanimo\n",
      "City not found. Skipping...\n",
      "Processing Record 42 of Set 7 | macklin\n",
      "City not found. Skipping...\n",
      "Processing Record 43 of Set 7 | cabo san lucas\n",
      "Processing Record 44 of Set 7 | sheksna\n",
      "Processing Record 45 of Set 7 | maues\n",
      "Processing Record 46 of Set 7 | lukoyanov\n",
      "Processing Record 47 of Set 7 | grindavik\n",
      "Processing Record 48 of Set 7 | amapa\n",
      "Processing Record 49 of Set 7 | buala\n",
      "City not found. Skipping...\n",
      "Processing Record 1 of Set 8 | dubti\n",
      "Processing Record 2 of Set 8 | adre\n",
      "Processing Record 3 of Set 8 | doha\n",
      "Processing Record 4 of Set 8 | stroud\n",
      "Processing Record 5 of Set 8 | port hardy\n",
      "Processing Record 6 of Set 8 | wukari\n",
      "City not found. Skipping...\n",
      "Processing Record 7 of Set 8 | saint-pierre\n",
      "City not found. Skipping...\n",
      "Processing Record 8 of Set 8 | zhanakorgan\n",
      "Processing Record 9 of Set 8 | bonfim\n",
      "Processing Record 10 of Set 8 | sola\n",
      "Processing Record 11 of Set 8 | machakos\n",
      "Processing Record 12 of Set 8 | kahului\n",
      "Processing Record 13 of Set 8 | kruisfontein\n",
      "Processing Record 14 of Set 8 | waingapu\n",
      "Processing Record 15 of Set 8 | karangampel\n",
      "Processing Record 16 of Set 8 | nadym\n",
      "Processing Record 17 of Set 8 | ouallam\n",
      "Processing Record 18 of Set 8 | coquimbo\n",
      "Processing Record 19 of Set 8 | akhmeta\n",
      "Processing Record 20 of Set 8 | vallenar\n",
      "Processing Record 21 of Set 8 | kalavad\n",
      "Processing Record 22 of Set 8 | san patricio\n",
      "Processing Record 23 of Set 8 | hailey\n",
      "Processing Record 24 of Set 8 | pinawa\n",
      "Processing Record 25 of Set 8 | mandalgovi\n",
      "City not found. Skipping...\n",
      "Processing Record 26 of Set 8 | jacareacanga\n"
     ]
    },
    {
     "name": "stdout",
     "output_type": "stream",
     "text": [
      "Processing Record 27 of Set 8 | samarai\n",
      "Processing Record 28 of Set 8 | saryozek\n",
      "Processing Record 29 of Set 8 | port macquarie\n",
      "Processing Record 30 of Set 8 | mmabatho\n",
      "Processing Record 31 of Set 8 | kipushi\n",
      "Processing Record 32 of Set 8 | yasnyy\n",
      "Processing Record 33 of Set 8 | pangnirtung\n",
      "Processing Record 34 of Set 8 | palmer\n",
      "Processing Record 35 of Set 8 | farafangana\n",
      "Processing Record 36 of Set 8 | puntarenas\n",
      "Processing Record 37 of Set 8 | sibolga\n",
      "Processing Record 38 of Set 8 | gympie\n",
      "Processing Record 39 of Set 8 | savelugu\n",
      "Processing Record 40 of Set 8 | arcata\n",
      "Processing Record 41 of Set 8 | luangwa\n",
      "Processing Record 42 of Set 8 | mehamn\n",
      "Processing Record 43 of Set 8 | hibbing\n",
      "Processing Record 44 of Set 8 | kamina\n",
      "Processing Record 45 of Set 8 | krasnoyarskiy\n",
      "Processing Record 46 of Set 8 | matara\n",
      "Processing Record 47 of Set 8 | seoul\n",
      "Processing Record 48 of Set 8 | maragogipe\n",
      "Processing Record 49 of Set 8 | tubuala\n",
      "Processing Record 1 of Set 9 | dingle\n",
      "Processing Record 2 of Set 9 | wattegama\n",
      "Processing Record 3 of Set 9 | hualmay\n",
      "Processing Record 4 of Set 9 | gubkinskiy\n",
      "Processing Record 5 of Set 9 | kingisepp\n",
      "Processing Record 6 of Set 9 | college\n",
      "City not found. Skipping...\n",
      "Processing Record 7 of Set 9 | gubden\n",
      "Processing Record 8 of Set 9 | terrace\n",
      "Processing Record 9 of Set 9 | artesia\n",
      "Processing Record 10 of Set 9 | lensk\n",
      "Processing Record 11 of Set 9 | kendari\n",
      "Processing Record 12 of Set 9 | santa maria\n",
      "Processing Record 13 of Set 9 | kargasok\n",
      "City not found. Skipping...\n",
      "Processing Record 14 of Set 9 | kitale\n",
      "Processing Record 15 of Set 9 | korhogo\n",
      "City not found. Skipping...\n",
      "Processing Record 16 of Set 9 | acapulco\n",
      "Processing Record 17 of Set 9 | regina\n",
      "Processing Record 18 of Set 9 | cockburn town\n",
      "Processing Record 19 of Set 9 | gat\n",
      "Processing Record 20 of Set 9 | tasiilaq\n",
      "Processing Record 21 of Set 9 | santa maria da vitoria\n",
      "Processing Record 22 of Set 9 | marhaura\n",
      "Processing Record 23 of Set 9 | akhisar\n",
      "Processing Record 24 of Set 9 | chimbote\n",
      "City not found. Skipping...\n",
      "Processing Record 25 of Set 9 | virginia beach\n",
      "Processing Record 26 of Set 9 | puerto escondido\n",
      "Processing Record 27 of Set 9 | skjervoy\n",
      "Processing Record 28 of Set 9 | aksha\n",
      "City not found. Skipping...\n",
      "Processing Record 29 of Set 9 | nouadhibou\n",
      "Processing Record 30 of Set 9 | nizwa\n",
      "City not found. Skipping...\n",
      "Processing Record 31 of Set 9 | mattru\n",
      "Processing Record 32 of Set 9 | simao\n",
      "Processing Record 33 of Set 9 | waipawa\n",
      "Processing Record 34 of Set 9 | paslek\n",
      "City not found. Skipping...\n",
      "Processing Record 35 of Set 9 | salalah\n",
      "Processing Record 36 of Set 9 | kosa\n",
      "Processing Record 37 of Set 9 | klaksvik\n",
      "Processing Record 38 of Set 9 | sur\n",
      "Processing Record 39 of Set 9 | dinhata\n",
      "Processing Record 40 of Set 9 | aksu\n",
      "Processing Record 41 of Set 9 | shimoda\n",
      "City not found. Skipping...\n",
      "City not found. Skipping...\n",
      "Processing Record 42 of Set 9 | northam\n",
      "Processing Record 43 of Set 9 | raichur\n",
      "Processing Record 44 of Set 9 | pacific grove\n",
      "Processing Record 45 of Set 9 | cordoba\n",
      "Processing Record 46 of Set 9 | naron\n",
      "City not found. Skipping...\n",
      "Processing Record 47 of Set 9 | morlaix\n",
      "Processing Record 48 of Set 9 | bonnyville\n",
      "Processing Record 49 of Set 9 | leatherhead\n",
      "Processing Record 1 of Set 10 | clyde river\n",
      "City not found. Skipping...\n",
      "Processing Record 2 of Set 10 | lazaro cardenas\n",
      "Processing Record 3 of Set 10 | lokoja\n",
      "Processing Record 4 of Set 10 | chopovychi\n",
      "Processing Record 5 of Set 10 | leua\n",
      "Processing Record 6 of Set 10 | defiance\n",
      "Processing Record 7 of Set 10 | san juan\n",
      "Processing Record 8 of Set 10 | americus\n",
      "Processing Record 9 of Set 10 | rio grande city\n",
      "Processing Record 10 of Set 10 | benguela\n",
      "Processing Record 11 of Set 10 | ribas do rio pardo\n",
      "Processing Record 12 of Set 10 | goiatuba\n",
      "Processing Record 13 of Set 10 | taoudenni\n",
      "Processing Record 14 of Set 10 | bubaque\n",
      "Processing Record 15 of Set 10 | chatellerault\n",
      "Processing Record 16 of Set 10 | comodoro rivadavia\n",
      "City not found. Skipping...\n",
      "Processing Record 17 of Set 10 | beaverton\n",
      "Processing Record 18 of Set 10 | grand-lahou\n",
      "Processing Record 19 of Set 10 | luoyang\n",
      "City not found. Skipping...\n",
      "Processing Record 20 of Set 10 | san quintin\n",
      "Processing Record 21 of Set 10 | sawtell\n",
      "Processing Record 22 of Set 10 | ambilobe\n",
      "Processing Record 23 of Set 10 | biscarrosse\n",
      "Processing Record 24 of Set 10 | sinnamary\n",
      "Processing Record 25 of Set 10 | pierre\n",
      "Processing Record 26 of Set 10 | hudiksvall\n",
      "Processing Record 27 of Set 10 | ornskoldsvik\n",
      "Processing Record 28 of Set 10 | naze\n",
      "Processing Record 29 of Set 10 | puerto princesa\n",
      "Processing Record 30 of Set 10 | borazjan\n",
      "Processing Record 31 of Set 10 | calatayud\n",
      "Processing Record 32 of Set 10 | grand centre\n",
      "Processing Record 33 of Set 10 | husavik\n",
      "City not found. Skipping...\n",
      "Processing Record 34 of Set 10 | bandarbeyla\n",
      "Processing Record 35 of Set 10 | fare\n",
      "Processing Record 36 of Set 10 | guangyuan\n",
      "Processing Record 37 of Set 10 | paita\n",
      "Processing Record 38 of Set 10 | statesboro\n",
      "Processing Record 39 of Set 10 | detva\n",
      "City not found. Skipping...\n",
      "Processing Record 40 of Set 10 | kaeo\n",
      "Processing Record 41 of Set 10 | wilmington island\n",
      "Processing Record 42 of Set 10 | donskoye\n",
      "Processing Record 43 of Set 10 | yamachiche\n",
      "Processing Record 44 of Set 10 | yelizovo\n",
      "Processing Record 45 of Set 10 | tezu\n",
      "City not found. Skipping...\n",
      "Processing Record 46 of Set 10 | maymyo\n",
      "Processing Record 47 of Set 10 | marsh harbour\n",
      "Processing Record 48 of Set 10 | balkhash\n",
      "Processing Record 49 of Set 10 | itoman\n",
      "Processing Record 1 of Set 11 | tautira\n",
      "Processing Record 2 of Set 11 | singkang\n",
      "Processing Record 3 of Set 11 | poum\n",
      "Processing Record 4 of Set 11 | pontianak\n",
      "Processing Record 5 of Set 11 | mahajanga\n",
      "Processing Record 6 of Set 11 | buraydah\n",
      "Processing Record 7 of Set 11 | alexandria\n",
      "Processing Record 8 of Set 11 | ullapool\n",
      "Processing Record 9 of Set 11 | axim\n",
      "Processing Record 10 of Set 11 | cedar city\n",
      "City not found. Skipping...\n",
      "Processing Record 11 of Set 11 | porto novo\n",
      "Processing Record 12 of Set 11 | manzhouli\n",
      "City not found. Skipping...\n",
      "Processing Record 13 of Set 11 | buta\n",
      "Processing Record 14 of Set 11 | zabaykalsk\n",
      "Processing Record 15 of Set 11 | avera\n",
      "Processing Record 16 of Set 11 | talcahuano\n",
      "Processing Record 17 of Set 11 | ketchikan\n",
      "Processing Record 18 of Set 11 | suchindram\n",
      "Processing Record 19 of Set 11 | hervey bay\n",
      "City not found. Skipping...\n",
      "Processing Record 20 of Set 11 | luanda\n",
      "City not found. Skipping...\n",
      "Processing Record 21 of Set 11 | hirara\n",
      "Processing Record 22 of Set 11 | batagay-alyta\n",
      "Processing Record 23 of Set 11 | gushi\n",
      "City not found. Skipping...\n",
      "City not found. Skipping...\n",
      "City not found. Skipping...\n",
      "Processing Record 24 of Set 11 | southbridge\n",
      "City not found. Skipping...\n",
      "Processing Record 25 of Set 11 | zhigansk\n",
      "Processing Record 26 of Set 11 | praia\n",
      "Processing Record 27 of Set 11 | naryan-mar\n",
      "Processing Record 28 of Set 11 | cayenne\n",
      "Processing Record 29 of Set 11 | loding\n",
      "Processing Record 30 of Set 11 | havelock\n",
      "Processing Record 31 of Set 11 | gimli\n",
      "Processing Record 32 of Set 11 | vitim\n",
      "Processing Record 33 of Set 11 | saint-georges\n",
      "Processing Record 34 of Set 11 | okhotsk\n",
      "Processing Record 35 of Set 11 | pangody\n",
      "City not found. Skipping...\n",
      "City not found. Skipping...\n",
      "Processing Record 36 of Set 11 | benicarlo\n",
      "Processing Record 37 of Set 11 | buchanan\n",
      "City not found. Skipping...\n",
      "Processing Record 38 of Set 11 | nador\n",
      "Processing Record 39 of Set 11 | mumford\n",
      "Processing Record 40 of Set 11 | suclayin\n",
      "------------------------------\n",
      "Data Retrieval Complete\n",
      "------------------------------\n"
     ]
    }
   ],
   "source": [
    "# set lists for the dataframe\n",
    "city_two = []\n",
    "cloudinesses = []\n",
    "dates = []\n",
    "humidities = []\n",
    "lats = []\n",
    "lngs = []\n",
    "max_temps = []\n",
    "wind_speeds = []\n",
    "countries = []\n",
    "\n",
    "# set initial count quantities for organization\n",
    "count_one = 0\n",
    "set_one = 1\n",
    "\n",
    "# loops for creating dataframe columns\n",
    "for city in cities:\n",
    "    try:\n",
    "        response = requests.get(query_url + city.replace(\" \",\"&\")).json()\n",
    "        cloudinesses.append(response['clouds']['all'])\n",
    "        countries.append(response['sys']['country'])\n",
    "        dates.append(response['dt'])\n",
    "        humidities.append(response['main']['humidity'])\n",
    "        lats.append(response['coord']['lat'])\n",
    "        lngs.append(response['coord']['lon'])\n",
    "        max_temps.append(response['main']['temp_max'])\n",
    "        wind_speeds.append(response['wind']['speed'])\n",
    "        if count_one > 48:\n",
    "            count_one = 1\n",
    "            set_one += 1\n",
    "            city_two.append(city)\n",
    "        else:\n",
    "            count_one += 1\n",
    "            city_two.append(city)\n",
    "        print(f\"Processing Record {count_one} of Set {set_one} | {city}\")\n",
    "    except Exception:\n",
    "        print(\"City not found. Skipping...\")\n",
    "print(\"------------------------------\\nData Retrieval Complete\\n------------------------------\")"
   ]
  },
  {
   "cell_type": "markdown",
   "metadata": {},
   "source": [
    "### Convert Raw Data to DataFrame\n",
    "* Export the city data into a .csv.\n",
    "* Display the DataFrame"
   ]
  },
  {
   "cell_type": "code",
   "execution_count": 4,
   "metadata": {},
   "outputs": [],
   "source": [
    "# create a dictionary for establishing dataframe\n",
    "weather_dict = {\n",
    "    \"City\":city_two,\n",
    "    \"Cloudiness\":cloudinesses,\n",
    "    \"Country\":countries,\n",
    "    \"Date\":dates,\n",
    "    \"Humidity\":humidities,\n",
    "    \"Lat\":lats,\n",
    "    \"Lng\":lngs,\n",
    "    \"Max Temp\":max_temps,\n",
    "    \"Wind Speed\":wind_speeds\n",
    "}"
   ]
  },
  {
   "cell_type": "code",
   "execution_count": 5,
   "metadata": {
    "scrolled": true
   },
   "outputs": [
    {
     "data": {
      "text/html": [
       "<div>\n",
       "<style scoped>\n",
       "    .dataframe tbody tr th:only-of-type {\n",
       "        vertical-align: middle;\n",
       "    }\n",
       "\n",
       "    .dataframe tbody tr th {\n",
       "        vertical-align: top;\n",
       "    }\n",
       "\n",
       "    .dataframe thead th {\n",
       "        text-align: right;\n",
       "    }\n",
       "</style>\n",
       "<table border=\"1\" class=\"dataframe\">\n",
       "  <thead>\n",
       "    <tr style=\"text-align: right;\">\n",
       "      <th></th>\n",
       "      <th>City</th>\n",
       "      <th>Cloudiness</th>\n",
       "      <th>Country</th>\n",
       "      <th>Date</th>\n",
       "      <th>Humidity</th>\n",
       "      <th>Lat</th>\n",
       "      <th>Lng</th>\n",
       "      <th>Max Temp</th>\n",
       "      <th>Wind Speed</th>\n",
       "    </tr>\n",
       "  </thead>\n",
       "  <tbody>\n",
       "    <tr>\n",
       "      <th>0</th>\n",
       "      <td>ilulissat</td>\n",
       "      <td>100</td>\n",
       "      <td>GL</td>\n",
       "      <td>1573766553</td>\n",
       "      <td>39</td>\n",
       "      <td>69.22</td>\n",
       "      <td>-51.10</td>\n",
       "      <td>44.60</td>\n",
       "      <td>27.51</td>\n",
       "    </tr>\n",
       "    <tr>\n",
       "      <th>1</th>\n",
       "      <td>ziniare</td>\n",
       "      <td>1</td>\n",
       "      <td>BF</td>\n",
       "      <td>1573766555</td>\n",
       "      <td>23</td>\n",
       "      <td>12.58</td>\n",
       "      <td>-1.30</td>\n",
       "      <td>86.00</td>\n",
       "      <td>7.02</td>\n",
       "    </tr>\n",
       "    <tr>\n",
       "      <th>2</th>\n",
       "      <td>inhambane</td>\n",
       "      <td>100</td>\n",
       "      <td>MZ</td>\n",
       "      <td>1573766555</td>\n",
       "      <td>81</td>\n",
       "      <td>-23.87</td>\n",
       "      <td>35.38</td>\n",
       "      <td>77.22</td>\n",
       "      <td>10.98</td>\n",
       "    </tr>\n",
       "    <tr>\n",
       "      <th>3</th>\n",
       "      <td>vila velha</td>\n",
       "      <td>75</td>\n",
       "      <td>IT</td>\n",
       "      <td>1573766556</td>\n",
       "      <td>93</td>\n",
       "      <td>45.18</td>\n",
       "      <td>8.40</td>\n",
       "      <td>48.99</td>\n",
       "      <td>12.75</td>\n",
       "    </tr>\n",
       "    <tr>\n",
       "      <th>4</th>\n",
       "      <td>yellowknife</td>\n",
       "      <td>75</td>\n",
       "      <td>CA</td>\n",
       "      <td>1573766556</td>\n",
       "      <td>76</td>\n",
       "      <td>62.45</td>\n",
       "      <td>-114.38</td>\n",
       "      <td>-5.01</td>\n",
       "      <td>3.36</td>\n",
       "    </tr>\n",
       "  </tbody>\n",
       "</table>\n",
       "</div>"
      ],
      "text/plain": [
       "          City  Cloudiness Country        Date  Humidity    Lat     Lng  \\\n",
       "0    ilulissat         100      GL  1573766553        39  69.22  -51.10   \n",
       "1      ziniare           1      BF  1573766555        23  12.58   -1.30   \n",
       "2    inhambane         100      MZ  1573766555        81 -23.87   35.38   \n",
       "3   vila velha          75      IT  1573766556        93  45.18    8.40   \n",
       "4  yellowknife          75      CA  1573766556        76  62.45 -114.38   \n",
       "\n",
       "   Max Temp  Wind Speed  \n",
       "0     44.60       27.51  \n",
       "1     86.00        7.02  \n",
       "2     77.22       10.98  \n",
       "3     48.99       12.75  \n",
       "4     -5.01        3.36  "
      ]
     },
     "execution_count": 5,
     "metadata": {},
     "output_type": "execute_result"
    }
   ],
   "source": [
    "#Create dataframe\n",
    "weather_df = pd.DataFrame(weather_dict)\n",
    "#display head\n",
    "weather_df.head()"
   ]
  },
  {
   "cell_type": "code",
   "execution_count": 6,
   "metadata": {},
   "outputs": [
    {
     "data": {
      "text/plain": [
       "City          530\n",
       "Cloudiness    530\n",
       "Country       530\n",
       "Date          530\n",
       "Humidity      530\n",
       "Lat           530\n",
       "Lng           530\n",
       "Max Temp      530\n",
       "Wind Speed    530\n",
       "dtype: int64"
      ]
     },
     "execution_count": 6,
     "metadata": {},
     "output_type": "execute_result"
    }
   ],
   "source": [
    "# be sure there aren't any NaN values \n",
    "weather_df.count()"
   ]
  },
  {
   "cell_type": "code",
   "execution_count": 7,
   "metadata": {},
   "outputs": [],
   "source": [
    "#export to csv \n",
    "weather_df.to_csv(output_data_file)"
   ]
  },
  {
   "cell_type": "markdown",
   "metadata": {},
   "source": [
    "### Plotting the Data\n",
    "* Use proper labeling of the plots using plot titles (including date of analysis) and axes labels.\n",
    "* Save the plotted figures as .pngs."
   ]
  },
  {
   "cell_type": "markdown",
   "metadata": {},
   "source": [
    "#### Latitude vs. Temperature Plot"
   ]
  },
  {
   "cell_type": "code",
   "execution_count": 8,
   "metadata": {
    "scrolled": true
   },
   "outputs": [
    {
     "data": {
      "image/png": "[encoded data removed]",
      "text/plain": [
       "<Figure size 432x288 with 1 Axes>"
      ]
     },
     "metadata": {
      "needs_background": "light"
     },
     "output_type": "display_data"
    }
   ],
   "source": [
    "#Create Plot\n",
    "plt.scatter(weather_df['Lat'], weather_df['Max Temp'],facecolors ='blue')\n",
    "#Labels\n",
    "plt.title(\"City Latitude vs. Max Temperature (09/25/19)\")\n",
    "plt.xlabel(\"Latitude\")\n",
    "plt.ylabel(\"Max Temperature (F)\")\n",
    "plt.grid()\n",
    "\n",
    "#save plt as png\n",
    "plt.savefig(\"figure_output/fig_latvtemp.png\")\n",
    "#show plot\n",
    "plt.show()"
   ]
  },
  {
   "cell_type": "code",
   "execution_count": null,
   "metadata": {},
   "outputs": [],
   "source": [
    "# In the above plot, the correlation between a city's latitude and temperature are displayed, with latitude serving as\n",
    "# the independent variable. The code that displays it utilizes the matplotlib library to display the data visually.\n",
    "# The code also saves a .png file of the image to the working directory."
   ]
  },
  {
   "cell_type": "markdown",
   "metadata": {},
   "source": [
    "#### Latitude vs. Humidity Plot"
   ]
  },
  {
   "cell_type": "code",
   "execution_count": 9,
   "metadata": {},
   "outputs": [
    {
     "data": {
      "image/png": "[encoded data removed]",
      "text/plain": [
       "<Figure size 432x288 with 1 Axes>"
      ]
     },
     "metadata": {
      "needs_background": "light"
     },
     "output_type": "display_data"
    }
   ],
   "source": [
    "#Create Plot\n",
    "plt.scatter(weather_df['Lat'], weather_df['Humidity'],facecolors ='purple')\n",
    "#Labels\n",
    "plt.title(\"City Latitude vs. Humidity (09/25/19)\")\n",
    "plt.xlabel(\"Latitude\")\n",
    "plt.ylabel(\"Humidity (%)\")\n",
    "plt.grid()\n",
    "\n",
    "#save plt as png\n",
    "plt.savefig(\"figure_output/fig_latvhum.png\")\n",
    "#show plot\n",
    "plt.show()"
   ]
  },
  {
   "cell_type": "code",
   "execution_count": null,
   "metadata": {},
   "outputs": [],
   "source": [
    "# In the above plot, the correlation between a city's latitude and humidity are displayed, with latitude serving as\n",
    "# the independent variable. The code that displays it utilizes the matplotlib library to display the data visually.\n",
    "# The code also saves a .png file of the image to the working directory."
   ]
  },
  {
   "cell_type": "markdown",
   "metadata": {},
   "source": [
    "#### Latitude vs. Cloudiness Plot"
   ]
  },
  {
   "cell_type": "code",
   "execution_count": 10,
   "metadata": {},
   "outputs": [
    {
     "data": {
      "image/png": "[encoded data removed]",
      "text/plain": [
       "<Figure size 432x288 with 1 Axes>"
      ]
     },
     "metadata": {
      "needs_background": "light"
     },
     "output_type": "display_data"
    }
   ],
   "source": [
    "#Create Plot\n",
    "plt.scatter(weather_df['Lat'], weather_df['Cloudiness'],facecolors ='green')\n",
    "#Labels\n",
    "plt.title(\"City Latitude vs. Cloudiness (09/25/19)\")\n",
    "plt.xlabel(\"Latitude\")\n",
    "plt.ylabel(\"Cloudiness (%)\")\n",
    "plt.grid()\n",
    "\n",
    "#save plt as png\n",
    "plt.savefig(\"figure_output/latvcloud.png\")\n",
    "#show plot\n",
    "plt.show()"
   ]
  },
  {
   "cell_type": "code",
   "execution_count": null,
   "metadata": {},
   "outputs": [],
   "source": [
    "# In the above plot, the correlation between a city's latitude and cloudiness are displayed, with latitude serving as\n",
    "# the independent variable. The code that displays it utilizes the matplotlib library to display the data visually.\n",
    "# The code also saves a .png file of the image to the working directory."
   ]
  },
  {
   "cell_type": "markdown",
   "metadata": {},
   "source": [
    "#### Latitude vs. Wind Speed Plot"
   ]
  },
  {
   "cell_type": "code",
   "execution_count": 11,
   "metadata": {},
   "outputs": [
    {
     "data": {
      "image/png": "[encoded data removed]",
      "text/plain": [
       "<Figure size 432x288 with 1 Axes>"
      ]
     },
     "metadata": {
      "needs_background": "light"
     },
     "output_type": "display_data"
    }
   ],
   "source": [
    "#Create Plot\n",
    "plt.scatter(weather_df['Lat'], weather_df['Wind Speed'],facecolors ='red')\n",
    "#Labels\n",
    "plt.title(\"City Latitude vs. Wind Speed (09/25/19)\")\n",
    "plt.xlabel(\"Latitude\")\n",
    "plt.ylabel(\"Wind Speed (mpg)\")\n",
    "plt.grid()\n",
    "\n",
    "#save plt as png\n",
    "plt.savefig(\"figure_output/latvwind.png\")\n",
    "#show plot\n",
    "plt.show()"
   ]
  },
  {
   "cell_type": "code",
   "execution_count": null,
   "metadata": {},
   "outputs": [],
   "source": [
    "# In the above plot, the correlation between a city's latitude and wind speed are displayed, with latitude serving as\n",
    "# the independent variable. The code that displays it utilizes the matplotlib library to display the data visually.\n",
    "# The code also saves a .png file of the image to the working directory."
   ]
  },
  {
   "cell_type": "markdown",
   "metadata": {},
   "source": [
    "## Linear Regression"
   ]
  },
  {
   "cell_type": "code",
   "execution_count": 12,
   "metadata": {},
   "outputs": [
    {
     "data": {
      "text/html": [
       "<div>\n",
       "<style scoped>\n",
       "    .dataframe tbody tr th:only-of-type {\n",
       "        vertical-align: middle;\n",
       "    }\n",
       "\n",
       "    .dataframe tbody tr th {\n",
       "        vertical-align: top;\n",
       "    }\n",
       "\n",
       "    .dataframe thead th {\n",
       "        text-align: right;\n",
       "    }\n",
       "</style>\n",
       "<table border=\"1\" class=\"dataframe\">\n",
       "  <thead>\n",
       "    <tr style=\"text-align: right;\">\n",
       "      <th></th>\n",
       "      <th>City</th>\n",
       "      <th>Cloudiness</th>\n",
       "      <th>Country</th>\n",
       "      <th>Date</th>\n",
       "      <th>Humidity</th>\n",
       "      <th>Lat</th>\n",
       "      <th>Lng</th>\n",
       "      <th>Max Temp</th>\n",
       "      <th>Wind Speed</th>\n",
       "    </tr>\n",
       "  </thead>\n",
       "  <tbody>\n",
       "    <tr>\n",
       "      <th>0</th>\n",
       "      <td>ilulissat</td>\n",
       "      <td>100</td>\n",
       "      <td>GL</td>\n",
       "      <td>1573766553</td>\n",
       "      <td>39</td>\n",
       "      <td>69.22</td>\n",
       "      <td>-51.10</td>\n",
       "      <td>44.60</td>\n",
       "      <td>27.51</td>\n",
       "    </tr>\n",
       "    <tr>\n",
       "      <th>1</th>\n",
       "      <td>ziniare</td>\n",
       "      <td>1</td>\n",
       "      <td>BF</td>\n",
       "      <td>1573766555</td>\n",
       "      <td>23</td>\n",
       "      <td>12.58</td>\n",
       "      <td>-1.30</td>\n",
       "      <td>86.00</td>\n",
       "      <td>7.02</td>\n",
       "    </tr>\n",
       "    <tr>\n",
       "      <th>3</th>\n",
       "      <td>vila velha</td>\n",
       "      <td>75</td>\n",
       "      <td>IT</td>\n",
       "      <td>1573766556</td>\n",
       "      <td>93</td>\n",
       "      <td>45.18</td>\n",
       "      <td>8.40</td>\n",
       "      <td>48.99</td>\n",
       "      <td>12.75</td>\n",
       "    </tr>\n",
       "    <tr>\n",
       "      <th>4</th>\n",
       "      <td>yellowknife</td>\n",
       "      <td>75</td>\n",
       "      <td>CA</td>\n",
       "      <td>1573766556</td>\n",
       "      <td>76</td>\n",
       "      <td>62.45</td>\n",
       "      <td>-114.38</td>\n",
       "      <td>-5.01</td>\n",
       "      <td>3.36</td>\n",
       "    </tr>\n",
       "    <tr>\n",
       "      <th>8</th>\n",
       "      <td>east london</td>\n",
       "      <td>56</td>\n",
       "      <td>UG</td>\n",
       "      <td>1573766557</td>\n",
       "      <td>78</td>\n",
       "      <td>3.43</td>\n",
       "      <td>31.70</td>\n",
       "      <td>71.71</td>\n",
       "      <td>1.77</td>\n",
       "    </tr>\n",
       "  </tbody>\n",
       "</table>\n",
       "</div>"
      ],
      "text/plain": [
       "          City  Cloudiness Country        Date  Humidity    Lat     Lng  \\\n",
       "0    ilulissat         100      GL  1573766553        39  69.22  -51.10   \n",
       "1      ziniare           1      BF  1573766555        23  12.58   -1.30   \n",
       "3   vila velha          75      IT  1573766556        93  45.18    8.40   \n",
       "4  yellowknife          75      CA  1573766556        76  62.45 -114.38   \n",
       "8  east london          56      UG  1573766557        78   3.43   31.70   \n",
       "\n",
       "   Max Temp  Wind Speed  \n",
       "0     44.60       27.51  \n",
       "1     86.00        7.02  \n",
       "3     48.99       12.75  \n",
       "4     -5.01        3.36  \n",
       "8     71.71        1.77  "
      ]
     },
     "execution_count": 12,
     "metadata": {},
     "output_type": "execute_result"
    }
   ],
   "source": [
    "# Create Northern and Southern Hemisphere DataFrames\n",
    "northern_df = weather_df[weather_df['Lat'] > 0]\n",
    "northern_df.head()\n"
   ]
  },
  {
   "cell_type": "code",
   "execution_count": 13,
   "metadata": {},
   "outputs": [
    {
     "data": {
      "text/html": [
       "<div>\n",
       "<style scoped>\n",
       "    .dataframe tbody tr th:only-of-type {\n",
       "        vertical-align: middle;\n",
       "    }\n",
       "\n",
       "    .dataframe tbody tr th {\n",
       "        vertical-align: top;\n",
       "    }\n",
       "\n",
       "    .dataframe thead th {\n",
       "        text-align: right;\n",
       "    }\n",
       "</style>\n",
       "<table border=\"1\" class=\"dataframe\">\n",
       "  <thead>\n",
       "    <tr style=\"text-align: right;\">\n",
       "      <th></th>\n",
       "      <th>City</th>\n",
       "      <th>Cloudiness</th>\n",
       "      <th>Country</th>\n",
       "      <th>Date</th>\n",
       "      <th>Humidity</th>\n",
       "      <th>Lat</th>\n",
       "      <th>Lng</th>\n",
       "      <th>Max Temp</th>\n",
       "      <th>Wind Speed</th>\n",
       "    </tr>\n",
       "  </thead>\n",
       "  <tbody>\n",
       "    <tr>\n",
       "      <th>2</th>\n",
       "      <td>inhambane</td>\n",
       "      <td>100</td>\n",
       "      <td>MZ</td>\n",
       "      <td>1573766555</td>\n",
       "      <td>81</td>\n",
       "      <td>-23.87</td>\n",
       "      <td>35.38</td>\n",
       "      <td>77.22</td>\n",
       "      <td>10.98</td>\n",
       "    </tr>\n",
       "    <tr>\n",
       "      <th>5</th>\n",
       "      <td>cuamba</td>\n",
       "      <td>80</td>\n",
       "      <td>MZ</td>\n",
       "      <td>1573766556</td>\n",
       "      <td>48</td>\n",
       "      <td>-14.80</td>\n",
       "      <td>36.54</td>\n",
       "      <td>79.72</td>\n",
       "      <td>3.42</td>\n",
       "    </tr>\n",
       "    <tr>\n",
       "      <th>6</th>\n",
       "      <td>busselton</td>\n",
       "      <td>0</td>\n",
       "      <td>AU</td>\n",
       "      <td>1573766556</td>\n",
       "      <td>50</td>\n",
       "      <td>-33.64</td>\n",
       "      <td>115.35</td>\n",
       "      <td>59.00</td>\n",
       "      <td>15.08</td>\n",
       "    </tr>\n",
       "    <tr>\n",
       "      <th>7</th>\n",
       "      <td>padang</td>\n",
       "      <td>100</td>\n",
       "      <td>ID</td>\n",
       "      <td>1573766557</td>\n",
       "      <td>95</td>\n",
       "      <td>-0.92</td>\n",
       "      <td>100.36</td>\n",
       "      <td>67.44</td>\n",
       "      <td>4.12</td>\n",
       "    </tr>\n",
       "    <tr>\n",
       "      <th>14</th>\n",
       "      <td>touros</td>\n",
       "      <td>20</td>\n",
       "      <td>BR</td>\n",
       "      <td>1573766559</td>\n",
       "      <td>74</td>\n",
       "      <td>-5.20</td>\n",
       "      <td>-35.46</td>\n",
       "      <td>78.80</td>\n",
       "      <td>13.87</td>\n",
       "    </tr>\n",
       "  </tbody>\n",
       "</table>\n",
       "</div>"
      ],
      "text/plain": [
       "         City  Cloudiness Country        Date  Humidity    Lat     Lng  \\\n",
       "2   inhambane         100      MZ  1573766555        81 -23.87   35.38   \n",
       "5      cuamba          80      MZ  1573766556        48 -14.80   36.54   \n",
       "6   busselton           0      AU  1573766556        50 -33.64  115.35   \n",
       "7      padang         100      ID  1573766557        95  -0.92  100.36   \n",
       "14     touros          20      BR  1573766559        74  -5.20  -35.46   \n",
       "\n",
       "    Max Temp  Wind Speed  \n",
       "2      77.22       10.98  \n",
       "5      79.72        3.42  \n",
       "6      59.00       15.08  \n",
       "7      67.44        4.12  \n",
       "14     78.80       13.87  "
      ]
     },
     "execution_count": 13,
     "metadata": {},
     "output_type": "execute_result"
    }
   ],
   "source": [
    "southern_df = weather_df[weather_df['Lat'] < 0]\n",
    "southern_df.head()"
   ]
  },
  {
   "cell_type": "markdown",
   "metadata": {},
   "source": [
    "####  Northern Hemisphere - Max Temp vs. Latitude Linear Regression"
   ]
  },
  {
   "cell_type": "code",
   "execution_count": 14,
   "metadata": {},
   "outputs": [
    {
     "name": "stdout",
     "output_type": "stream",
     "text": [
      "The r-squared is: -0.8492315715373303\n"
     ]
    },
    {
     "data": {
      "image/png": "[encoded data removed]",
      "text/plain": [
       "<Figure size 432x288 with 1 Axes>"
      ]
     },
     "metadata": {
      "needs_background": "light"
     },
     "output_type": "display_data"
    }
   ],
   "source": [
    "x_values = northern_df['Lat']\n",
    "y_values = northern_df['Max Temp']\n",
    "(slope, intercept, rvalue, pvalue, stderr) = linregress(x_values, y_values)\n",
    "regress_values = x_values * slope + intercept\n",
    "line_eq = \"y = \" + str(round(slope,2)) + \"x + \" + str(round(intercept,2))\n",
    "plt.scatter(x_values,y_values)\n",
    "plt.plot(x_values,regress_values,\"r-\")\n",
    "plt.annotate(line_eq,(10,20),fontsize=15,color=\"red\")\n",
    "plt.xlabel('Latitude')\n",
    "plt.ylabel('Max Temperature (F)')\n",
    "print(f\"The r-squared is: {rvalue}\")\n",
    "plt.show()"
   ]
  },
  {
   "cell_type": "markdown",
   "metadata": {},
   "source": [
    "####  Southern Hemisphere - Max Temp vs. Latitude Linear Regression"
   ]
  },
  {
   "cell_type": "code",
   "execution_count": 15,
   "metadata": {},
   "outputs": [
    {
     "name": "stdout",
     "output_type": "stream",
     "text": [
      "The r-squared is: 0.6356108683977295\n"
     ]
    },
    {
     "data": {
      "image/png": "[encoded data removed]",
      "text/plain": [
       "<Figure size 432x288 with 1 Axes>"
      ]
     },
     "metadata": {
      "needs_background": "light"
     },
     "output_type": "display_data"
    }
   ],
   "source": [
    "x_values = southern_df['Lat']\n",
    "y_values = southern_df['Max Temp']\n",
    "(slope, intercept, rvalue, pvalue, stderr) = linregress(x_values, y_values)\n",
    "regress_values = x_values * slope + intercept\n",
    "line_eq = \"y = \" + str(round(slope,2)) + \"x + \" + str(round(intercept,2))\n",
    "plt.scatter(x_values,y_values)\n",
    "plt.plot(x_values,regress_values,\"r-\")\n",
    "plt.annotate(line_eq,(-30,40),fontsize=15,color=\"red\")\n",
    "plt.xlabel('Latitude')\n",
    "plt.ylabel('Max Temperature (F)')\n",
    "print(f\"The r-squared is: {rvalue}\")\n",
    "plt.show()"
   ]
  },
  {
   "cell_type": "code",
   "execution_count": null,
   "metadata": {},
   "outputs": [],
   "source": [
    "# In the two preceeding plots, the correlation between a city's latitude and temperature are displayed, \n",
    "# with latitude serving as the independent variable. This time, the analysis is split between Northern Hemisphere \n",
    "# and Southern Hemisphere. It displays a strongly negative relationship in the Northern Hemisphere, and a moderately positive relationship\n",
    "# in the Southern Hemisphere. The code that displays it utilizes the matplotlib library to display the data visually.\n",
    "# The code also saves a .png file of the image to the working directory."
   ]
  },
  {
   "cell_type": "markdown",
   "metadata": {},
   "source": [
    "####  Northern Hemisphere - Humidity (%) vs. Latitude Linear Regression"
   ]
  },
  {
   "cell_type": "code",
   "execution_count": 16,
   "metadata": {},
   "outputs": [
    {
     "name": "stdout",
     "output_type": "stream",
     "text": [
      "The r-squared is: 0.2479217191253293\n"
     ]
    },
    {
     "data": {
      "image/png": "[encoded data removed]",
      "text/plain": [
       "<Figure size 432x288 with 1 Axes>"
      ]
     },
     "metadata": {
      "needs_background": "light"
     },
     "output_type": "display_data"
    }
   ],
   "source": [
    "x_values = northern_df['Lat']\n",
    "y_values = northern_df['Humidity']\n",
    "(slope, intercept, rvalue, pvalue, stderr) = linregress(x_values, y_values)\n",
    "regress_values = x_values * slope + intercept\n",
    "line_eq = \"y = \" + str(round(slope,2)) + \"x + \" + str(round(intercept,2))\n",
    "plt.scatter(x_values,y_values)\n",
    "plt.plot(x_values,regress_values,\"r-\")\n",
    "plt.annotate(line_eq,(40,10),fontsize=15,color=\"red\")\n",
    "plt.xlabel('Latitude')\n",
    "plt.ylabel('Humidity')\n",
    "print(f\"The r-squared is: {rvalue}\")\n",
    "plt.show()"
   ]
  },
  {
   "cell_type": "markdown",
   "metadata": {},
   "source": [
    "####  Southern Hemisphere - Humidity (%) vs. Latitude Linear Regression"
   ]
  },
  {
   "cell_type": "code",
   "execution_count": 17,
   "metadata": {},
   "outputs": [
    {
     "name": "stdout",
     "output_type": "stream",
     "text": [
      "The r-squared is: 0.2772417321556235\n"
     ]
    },
    {
     "data": {
      "image/png": "[encoded data removed]",
      "text/plain": [
       "<Figure size 432x288 with 1 Axes>"
      ]
     },
     "metadata": {
      "needs_background": "light"
     },
     "output_type": "display_data"
    }
   ],
   "source": [
    "x_values = southern_df['Lat']\n",
    "y_values = southern_df['Humidity']\n",
    "(slope, intercept, rvalue, pvalue, stderr) = linregress(x_values, y_values)\n",
    "regress_values = x_values * slope + intercept\n",
    "line_eq = \"y = \" + str(round(slope,2)) + \"x + \" + str(round(intercept,2))\n",
    "plt.scatter(x_values,y_values)\n",
    "plt.plot(x_values,regress_values,\"r-\")\n",
    "plt.annotate(line_eq,(-50, 20),fontsize=15,color=\"red\")\n",
    "plt.xlabel('Latitude')\n",
    "plt.ylabel('Humidity')\n",
    "print(f\"The r-squared is: {rvalue}\")\n",
    "plt.show()"
   ]
  },
  {
   "cell_type": "code",
   "execution_count": null,
   "metadata": {},
   "outputs": [],
   "source": [
    "# In the two preceeding plots, the correlation between a city's latitude and humidity are displayed, \n",
    "# with latitude serving as the independent variable. This time, the analysis is split between Northern Hemisphere \n",
    "# and Southern Hemisphere. It displays a moderately positive relationship in the Northern Hemisphere, and a moderately positive relationship\n",
    "# in the Southern Hemisphere. The code that displays it utilizes the matplotlib library to display the data visually.\n",
    "# The code also saves a .png file of the image to the working directory."
   ]
  },
  {
   "cell_type": "markdown",
   "metadata": {},
   "source": [
    "####  Northern Hemisphere - Cloudiness (%) vs. Latitude Linear Regression"
   ]
  },
  {
   "cell_type": "code",
   "execution_count": 18,
   "metadata": {},
   "outputs": [
    {
     "name": "stdout",
     "output_type": "stream",
     "text": [
      "The r-squared is: 0.22565868560162172\n"
     ]
    },
    {
     "data": {
      "image/png": "[encoded data removed]",
      "text/plain": [
       "<Figure size 432x288 with 1 Axes>"
      ]
     },
     "metadata": {
      "needs_background": "light"
     },
     "output_type": "display_data"
    }
   ],
   "source": [
    "x_values = northern_df['Lat']\n",
    "y_values = northern_df['Cloudiness']\n",
    "(slope, intercept, rvalue, pvalue, stderr) = linregress(x_values, y_values)\n",
    "regress_values = x_values * slope + intercept\n",
    "line_eq = \"y = \" + str(round(slope,2)) + \"x + \" + str(round(intercept,2))\n",
    "plt.scatter(x_values,y_values)\n",
    "plt.plot(x_values,regress_values,\"r-\")\n",
    "plt.annotate(line_eq,(40,20),fontsize=15,color=\"red\")\n",
    "plt.xlabel('Latitude')\n",
    "plt.ylabel('Cloudiness')\n",
    "print(f\"The r-squared is: {rvalue}\")\n",
    "plt.show()"
   ]
  },
  {
   "cell_type": "markdown",
   "metadata": {},
   "source": [
    "####  Southern Hemisphere - Cloudiness (%) vs. Latitude Linear Regression"
   ]
  },
  {
   "cell_type": "code",
   "execution_count": 19,
   "metadata": {},
   "outputs": [
    {
     "name": "stdout",
     "output_type": "stream",
     "text": [
      "The r-squared is: 0.14480784613972736\n"
     ]
    },
    {
     "data": {
      "image/png": "[encoded data removed]",
      "text/plain": [
       "<Figure size 432x288 with 1 Axes>"
      ]
     },
     "metadata": {
      "needs_background": "light"
     },
     "output_type": "display_data"
    }
   ],
   "source": [
    "x_values = southern_df['Lat']\n",
    "y_values = southern_df['Cloudiness']\n",
    "(slope, intercept, rvalue, pvalue, stderr) = linregress(x_values, y_values)\n",
    "regress_values = x_values * slope + intercept\n",
    "line_eq = \"y = \" + str(round(slope,2)) + \"x + \" + str(round(intercept,2))\n",
    "plt.scatter(x_values,y_values)\n",
    "plt.plot(x_values,regress_values,\"r-\")\n",
    "plt.annotate(line_eq,(-30,20),fontsize=15,color=\"red\")\n",
    "plt.xlabel('Latitude')\n",
    "plt.ylabel('Cloudiness')\n",
    "print(f\"The r-squared is: {rvalue}\")\n",
    "plt.show()"
   ]
  },
  {
   "cell_type": "code",
   "execution_count": null,
   "metadata": {},
   "outputs": [],
   "source": [
    "# In the two preceeding plots, the correlation between a city's latitude and cloudiness are displayed, \n",
    "# with latitude serving as the independent variable. This time, the analysis is split between Northern Hemisphere \n",
    "# and Southern Hemisphere. It displays a weakly positive relationship in the Northern Hemisphere, and a weakly positive relationship\n",
    "# in the Southern Hemisphere. The code that displays it utilizes the matplotlib library to display the data visually.\n",
    "# The code also saves a .png file of the image to the working directory."
   ]
  },
  {
   "cell_type": "markdown",
   "metadata": {},
   "source": [
    "####  Northern Hemisphere - Wind Speed (mph) vs. Latitude Linear Regression"
   ]
  },
  {
   "cell_type": "code",
   "execution_count": 20,
   "metadata": {},
   "outputs": [
    {
     "name": "stdout",
     "output_type": "stream",
     "text": [
      "The r-squared is: 0.2876201137126649\n"
     ]
    },
    {
     "data": {
      "image/png": "[encoded data removed]",
      "text/plain": [
       "<Figure size 432x288 with 1 Axes>"
      ]
     },
     "metadata": {
      "needs_background": "light"
     },
     "output_type": "display_data"
    }
   ],
   "source": [
    "x_values = northern_df['Lat']\n",
    "y_values = northern_df['Wind Speed']\n",
    "(slope, intercept, rvalue, pvalue, stderr) = linregress(x_values, y_values)\n",
    "regress_values = x_values * slope + intercept\n",
    "line_eq = \"y = \" + str(round(slope,2)) + \"x + \" + str(round(intercept,2))\n",
    "plt.scatter(x_values,y_values)\n",
    "plt.plot(x_values,regress_values,\"r-\")\n",
    "plt.annotate(line_eq,(40,25),fontsize=15,color=\"red\")\n",
    "plt.xlabel('Latitude')\n",
    "plt.ylabel('Wind Speed')\n",
    "print(f\"The r-squared is: {rvalue}\")\n",
    "plt.show()"
   ]
  },
  {
   "cell_type": "markdown",
   "metadata": {},
   "source": [
    "####  Southern Hemisphere - Wind Speed (mph) vs. Latitude Linear Regression"
   ]
  },
  {
   "cell_type": "code",
   "execution_count": 21,
   "metadata": {},
   "outputs": [
    {
     "name": "stdout",
     "output_type": "stream",
     "text": [
      "The r-squared is: -0.3932755057344683\n"
     ]
    },
    {
     "data": {
      "image/png": "[encoded data removed]",
      "text/plain": [
       "<Figure size 432x288 with 1 Axes>"
      ]
     },
     "metadata": {
      "needs_background": "light"
     },
     "output_type": "display_data"
    }
   ],
   "source": [
    "x_values = southern_df['Lat']\n",
    "y_values = southern_df['Wind Speed']\n",
    "(slope, intercept, rvalue, pvalue, stderr) = linregress(x_values, y_values)\n",
    "regress_values = x_values * slope + intercept\n",
    "line_eq = \"y = \" + str(round(slope,2)) + \"x + \" + str(round(intercept,2))\n",
    "plt.scatter(x_values,y_values)\n",
    "plt.plot(x_values,regress_values,\"r-\")\n",
    "plt.annotate(line_eq,(-30,32),fontsize=15,color=\"red\")\n",
    "plt.xlabel('Latitude')\n",
    "plt.ylabel('Wind Speed')\n",
    "print(f\"The r-squared is: {rvalue}\")\n",
    "plt.show()"
   ]
  },
  {
   "cell_type": "code",
   "execution_count": null,
   "metadata": {},
   "outputs": [],
   "source": [
    "# In the two preceeding plots, the correlation between a city's latitude and wind speed are displayed, \n",
    "# with latitude serving as the independent variable. This time, the analysis is split between Northern Hemisphere \n",
    "# and Southern Hemisphere. It displays a weakly postive relationship in the Northern Hemisphere, and a weakly negative relationship\n",
    "# in the Southern Hemisphere. The code that displays it utilizes the matplotlib library to display the data visually.\n",
    "# The code also saves a .png file of the image to the working directory."
   ]
  }
 ],
 "metadata": {
  "anaconda-cloud": {},
  "kernel_info": {
   "name": "python3"
  },
  "kernelspec": {
   "display_name": "Python 3",
   "language": "python",
   "name": "python3"
  },
  "language_info": {
   "codemirror_mode": {
    "name": "ipython",
    "version": 3
   },
   "file_extension": ".py",
   "mimetype": "text/x-python",
   "name": "python",
   "nbconvert_exporter": "python",
   "pygments_lexer": "ipython3",
   "version": "3.7.3"
  },
  "latex_envs": {
   "LaTeX_envs_menu_present": true,
   "autoclose": false,
   "autocomplete": true,
   "bibliofile": "biblio.bib",
   "cite_by": "apalike",
   "current_citInitial": 1,
   "eqLabelWithNumbers": true,
   "eqNumInitial": 1,
   "hotkeys": {
    "equation": "Ctrl-E",
    "itemize": "Ctrl-I"
   },
   "labels_anchors": false,
   "latex_user_defs": false,
   "report_style_numbering": false,
   "user_envs_cfg": false
  },
  "nteract": {
   "version": "0.12.3"
  }
 },
 "nbformat": 4,
 "nbformat_minor": 2
}
